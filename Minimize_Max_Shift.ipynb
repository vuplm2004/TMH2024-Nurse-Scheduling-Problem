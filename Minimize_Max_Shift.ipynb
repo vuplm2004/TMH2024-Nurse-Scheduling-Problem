{
  "nbformat": 4,
  "nbformat_minor": 0,
  "metadata": {
    "colab": {
      "provenance": []
    },
    "kernelspec": {
      "name": "python3",
      "display_name": "Python 3"
    },
    "language_info": {
      "name": "python"
    }
  },
  "cells": [
    {
      "cell_type": "code",
      "source": [
        "!pip install pulp"
      ],
      "metadata": {
        "colab": {
          "base_uri": "https://localhost:8080/"
        },
        "id": "MK4Y7GD1vfCQ",
        "outputId": "4d86a063-ac94-4379-e6d0-a721488d6384"
      },
      "execution_count": null,
      "outputs": [
        {
          "output_type": "stream",
          "name": "stdout",
          "text": [
            "Collecting pulp\n",
            "  Downloading PuLP-2.9.0-py3-none-any.whl (17.7 MB)\n",
            "\u001b[2K     \u001b[90m━━━━━━━━━━━━━━━━━━━━━━━━━━━━━━━━━━━━━━━━\u001b[0m \u001b[32m17.7/17.7 MB\u001b[0m \u001b[31m62.2 MB/s\u001b[0m eta \u001b[36m0:00:00\u001b[0m\n",
            "\u001b[?25hInstalling collected packages: pulp\n",
            "Successfully installed pulp-2.9.0\n"
          ]
        }
      ]
    },
    {
      "cell_type": "code",
      "source": [
        "import pandas as pd\n",
        "import numpy as np\n",
        "from pulp import *\n",
        "import itertools"
      ],
      "metadata": {
        "id": "XlSbO2YnuKh_"
      },
      "execution_count": null,
      "outputs": []
    },
    {
      "cell_type": "markdown",
      "source": [
        "# Data Analysis"
      ],
      "metadata": {
        "id": "crgLHv_TVgs2"
      }
    },
    {
      "cell_type": "code",
      "source": [
        "staff_df = pd.read_csv(\"/content/data.csv\")"
      ],
      "metadata": {
        "id": "vMv2KKInVLlA"
      },
      "execution_count": null,
      "outputs": []
    },
    {
      "cell_type": "code",
      "source": [
        "def analyze_staff_data(staff_df):\n",
        "    print(\"Staff Data Summary:\")\n",
        "    print(staff_df['Role'].value_counts())\n",
        "    print(\"\\nDepartment Distribution:\")\n",
        "    print(staff_df['Department'].value_counts())\n",
        "    print(\"\\nSeniority Statistics:\")\n",
        "    print(staff_df['Seniority'].describe())\n",
        "\n",
        "    for role in ['Main Doctor', 'Assistant Doctor', 'Nurse']:\n",
        "        print(f\"\\n{role} Department Distribution:\")\n",
        "        print(staff_df[staff_df['Role'] == role]['Department'].value_counts())\n",
        "\n",
        "analyze_staff_data(staff_df)"
      ],
      "metadata": {
        "colab": {
          "base_uri": "https://localhost:8080/"
        },
        "id": "9Xvb0-HpVR4P",
        "outputId": "37979369-702d-4424-be19-ae15fb584b53"
      },
      "execution_count": null,
      "outputs": [
        {
          "output_type": "stream",
          "name": "stdout",
          "text": [
            "Staff Data Summary:\n",
            "Role\n",
            "Nurse               44\n",
            "Main Doctor         19\n",
            "Assistant Doctor    17\n",
            "Name: count, dtype: int64\n",
            "\n",
            "Department Distribution:\n",
            "Department\n",
            "Emergency            23\n",
            "Clinical             22\n",
            "Surgery              21\n",
            "Internal Medicine    14\n",
            "Name: count, dtype: int64\n",
            "\n",
            "Seniority Statistics:\n",
            "count    80.000000\n",
            "mean     10.612500\n",
            "std       5.990486\n",
            "min       1.000000\n",
            "25%       5.750000\n",
            "50%      10.500000\n",
            "75%      15.250000\n",
            "max      22.000000\n",
            "Name: Seniority, dtype: float64\n",
            "\n",
            "Main Doctor Department Distribution:\n",
            "Department\n",
            "Surgery              6\n",
            "Emergency            6\n",
            "Clinical             4\n",
            "Internal Medicine    3\n",
            "Name: count, dtype: int64\n",
            "\n",
            "Assistant Doctor Department Distribution:\n",
            "Department\n",
            "Clinical             7\n",
            "Surgery              4\n",
            "Emergency            4\n",
            "Internal Medicine    2\n",
            "Name: count, dtype: int64\n",
            "\n",
            "Nurse Department Distribution:\n",
            "Department\n",
            "Emergency            13\n",
            "Surgery              11\n",
            "Clinical             11\n",
            "Internal Medicine     9\n",
            "Name: count, dtype: int64\n"
          ]
        }
      ]
    },
    {
      "cell_type": "code",
      "source": [
        "def check_staff_sufficiency(staff_df, num_days=61):\n",
        "    total_shifts = num_days * 2  # 2 shifts per day\n",
        "    required_staff_shifts = {\n",
        "        'Main Doctor': total_shifts,\n",
        "        'Assistant Doctor': total_shifts,\n",
        "        'Nurse': total_shifts * 2  # 2 nurses per shift\n",
        "    }\n",
        "\n",
        "    available_staff = staff_df['Role'].value_counts()\n",
        "\n",
        "    print(\"Required staff per shift:\")\n",
        "    for role, count in required_staff_shifts.items():\n",
        "        print(f\"{role}: {count/total_shifts}\")\n",
        "\n",
        "    print(\"\\nAvailable staff:\")\n",
        "    print(available_staff)\n",
        "\n",
        "    for role in required_staff_shifts:\n",
        "        if role not in available_staff or available_staff[role] < required_staff_shifts[role]/total_shifts:\n",
        "            print(f\"\\nInsufficient {role}s. Need at least {required_staff_shifts[role]/total_shifts:.2f}, have {available_staff.get(role, 0)}\")\n",
        "            return False\n",
        "\n",
        "    print(\"\\nSufficient staff available for all roles.\")\n",
        "    return True\n",
        "\n",
        "check_staff_sufficiency(staff_df)"
      ],
      "metadata": {
        "colab": {
          "base_uri": "https://localhost:8080/"
        },
        "id": "b0U32c15VT_o",
        "outputId": "02991c00-5331-4a22-ab6c-3e12bf4a7e4d"
      },
      "execution_count": null,
      "outputs": [
        {
          "output_type": "stream",
          "name": "stdout",
          "text": [
            "Required staff per shift:\n",
            "Main Doctor: 1.0\n",
            "Assistant Doctor: 1.0\n",
            "Nurse: 2.0\n",
            "\n",
            "Available staff:\n",
            "Role\n",
            "Nurse               44\n",
            "Main Doctor         19\n",
            "Assistant Doctor    17\n",
            "Name: count, dtype: int64\n",
            "\n",
            "Sufficient staff available for all roles.\n"
          ]
        },
        {
          "output_type": "execute_result",
          "data": {
            "text/plain": [
              "True"
            ]
          },
          "metadata": {},
          "execution_count": 5
        }
      ]
    },
    {
      "cell_type": "code",
      "source": [
        "def analyze_role_department_distribution(staff_df):\n",
        "    roles = ['Main Doctor', 'Assistant Doctor', 'Nurse']\n",
        "    departments = staff_df['Department'].unique()\n",
        "\n",
        "    print(\"Role-Department Distribution:\")\n",
        "    for role in roles:\n",
        "        print(f\"\\n{role}:\")\n",
        "        role_dept_dist = staff_df[staff_df['Role'] == role]['Department'].value_counts()\n",
        "        for dept in departments:\n",
        "            print(f\"  {dept}: {role_dept_dist.get(dept, 0)}\")\n",
        "\n",
        "analyze_role_department_distribution(staff_df)"
      ],
      "metadata": {
        "colab": {
          "base_uri": "https://localhost:8080/"
        },
        "id": "TzVlZQAHVYv-",
        "outputId": "c1e4475e-6b15-4329-ec2a-6dac88b5b912"
      },
      "execution_count": null,
      "outputs": [
        {
          "output_type": "stream",
          "name": "stdout",
          "text": [
            "Role-Department Distribution:\n",
            "\n",
            "Main Doctor:\n",
            "  Internal Medicine: 3\n",
            "  Surgery: 6\n",
            "  Emergency: 6\n",
            "  Clinical: 4\n",
            "\n",
            "Assistant Doctor:\n",
            "  Internal Medicine: 2\n",
            "  Surgery: 4\n",
            "  Emergency: 4\n",
            "  Clinical: 7\n",
            "\n",
            "Nurse:\n",
            "  Internal Medicine: 9\n",
            "  Surgery: 11\n",
            "  Emergency: 13\n",
            "  Clinical: 11\n"
          ]
        }
      ]
    },
    {
      "cell_type": "code",
      "source": [
        "def check_department_diversity_feasibility(staff_df):\n",
        "    roles = ['Main Doctor', 'Assistant Doctor', 'Nurse']\n",
        "    departments = staff_df['Department'].unique()\n",
        "\n",
        "    for role in roles:\n",
        "        role_depts = staff_df[staff_df['Role'] == role]['Department'].unique()\n",
        "        if len(role_depts) < 3:\n",
        "            print(f\"Warning: {role}s are only available from {len(role_depts)} departments.\")\n",
        "            print(f\"Departments with {role}s: {', '.join(role_depts)}\")\n",
        "\n",
        "    all_role_depts = [set(staff_df[staff_df['Role'] == role]['Department']) for role in roles]\n",
        "    common_depts = set.intersection(*all_role_depts)\n",
        "\n",
        "    if len(common_depts) < 3:\n",
        "        print(f\"\\nWarning: Only {len(common_depts)} departments have staff for all roles.\")\n",
        "        print(f\"Departments with all roles: {', '.join(common_depts)}\")\n",
        "        print(\"This makes it impossible to always have 3 departments represented in each shift.\")\n",
        "    else:\n",
        "        print(\"\\nIt is possible to have staff from at least 3 departments in each shift.\")\n",
        "\n",
        "check_department_diversity_feasibility(staff_df)"
      ],
      "metadata": {
        "colab": {
          "base_uri": "https://localhost:8080/"
        },
        "id": "NrxUlgPEVcLi",
        "outputId": "80d6f4c5-fd59-4ef5-d53a-f1fec5370327"
      },
      "execution_count": null,
      "outputs": [
        {
          "output_type": "stream",
          "name": "stdout",
          "text": [
            "\n",
            "It is possible to have staff from at least 3 departments in each shift.\n"
          ]
        }
      ]
    },
    {
      "cell_type": "code",
      "source": [],
      "metadata": {
        "id": "s2UmuLylVdTW"
      },
      "execution_count": null,
      "outputs": []
    },
    {
      "cell_type": "markdown",
      "source": [
        "# Create Model"
      ],
      "metadata": {
        "id": "eDgT-xpjVmKQ"
      }
    },
    {
      "cell_type": "code",
      "source": [
        "def load_staff_df(file_path='/content/data - data.csv'):\n",
        "    staff_df = pd.read_csv(file_path)\n",
        "    required_columns = ['ID', 'Name', 'Department', 'Role', 'Seniority']\n",
        "    if not all(col in staff_df.columns for col in required_columns):\n",
        "        raise ValueError(f\"The CSV file must contain the following columns: {required_columns}\")\n",
        "    return staff_df"
      ],
      "metadata": {
        "id": "5xKD5sIqvNYY"
      },
      "execution_count": null,
      "outputs": []
    },
    {
      "cell_type": "code",
      "source": [
        "def create_model(staff_df, num_days=61):\n",
        "    # Sets\n",
        "    D = range(1, num_days + 1)  # Days\n",
        "    S = ['day', 'night']  # Shifts\n",
        "    R = ['Main Doctor', 'Assistant Doctor', 'Nurse']  # Roles\n",
        "    E = staff_df['ID'].tolist()  # Employees\n",
        "    P = staff_df['Department'].unique().tolist()  # Departments\n",
        "\n",
        "    # Parameters\n",
        "    role_requirements = {'Main Doctor': 1, 'Assistant Doctor': 1, 'Nurse': 2}\n",
        "    employee_roles = {e: staff_df.loc[staff_df['ID'] == e, 'Role'].values[0] for e in E}\n",
        "    employee_departments = {e: staff_df.loc[staff_df['ID'] == e, 'Department'].values[0] for e in E}\n",
        "    employee_seniority = {e: staff_df.loc[staff_df['ID'] == e, 'Seniority'].values[0] for e in E}\n",
        "\n",
        "    # Create the model\n",
        "    model = LpProblem(\"Hospital_Scheduling\", LpMinimize)\n",
        "\n",
        "    # Decision Variables\n",
        "    x = LpVariable.dicts(\"shift\", ((e, d, s) for e in E for d in D for s in S), cat='Binary')\n",
        "\n",
        "    # Variables for shift count per employee\n",
        "    shift_count = LpVariable.dicts(\"shift_count\", E, lowBound=0, cat='Integer')\n",
        "\n",
        "    # Variables for maximum shifts\n",
        "    max_shifts = LpVariable(\"max_shifts\", lowBound=4, cat='Integer')\n",
        "\n",
        "    # min_shifts = 4\n",
        "    z = max_shifts\n",
        "\n",
        "    # Objective Function: Minimize the difference between max and min shifts\n",
        "    model += z, \"Minimize_max_shifts\"\n",
        "\n",
        "    # Constraints\n",
        "    # 1. Each shift must have the required number of staff for each role (HARD CONSTRAINT)\n",
        "    for d in D:\n",
        "        for s in S:\n",
        "            for r in R:\n",
        "                model += lpSum(x[e, d, s] for e in E if employee_roles[e] == r) == role_requirements[r]\n",
        "\n",
        "    # 2. Each employee can work at most one shift per day (ADDITIONAL HARD CONSTRAINT)\n",
        "    for e in E:\n",
        "        for d in D:\n",
        "            model += lpSum(x[e, d, s] for s in S) <= 1\n",
        "\n",
        "    # 3. No day shift immediately after night shift (ADDITIONAL HARD CONSTRAINT)\n",
        "    for e in E:\n",
        "        for d in range(1, num_days):\n",
        "            model += x[e, d, 'night'] + x[e, d+1, 'day'] <= 1\n",
        "\n",
        "    # 4. No 3 consecutive working days (HARD CONSTRAINT)\n",
        "    for e in E:\n",
        "        for d in range(1, num_days - 1):  # We need to look at 3 consecutive days\n",
        "            model += lpSum(x[e, d, s] for s in S) + lpSum(x[e, d+1, s] for s in S) + lpSum(x[e, d+2, s] for s in S) <= 2\n",
        "\n",
        "    # 5. Each employee has at least 4 shifts (ADDITIONAL HARD CONSTRAINT)\n",
        "    for e in E:\n",
        "        model += shift_count[e] >= 4\n",
        "\n",
        "    # 6. The maximum number of shifts for any employee should be minimized (ADDITIONAL SOFT CONSTRAINT)\n",
        "    for e in E:\n",
        "        model += shift_count[e] == lpSum(x[e, d, s] for d in D for s in S)\n",
        "        model += shift_count[e] <= max_shifts\n",
        "\n",
        "    # 7. Each shift should have staff from at least 3 departments (SOFT CONSTRAINT)\n",
        "    dept_diversity = LpVariable.dicts(\"dept_diversity\", ((d, s, p) for d in D for s in S for p in P), cat='Binary')\n",
        "    for d in D:\n",
        "        for s in S:\n",
        "            for p in P:\n",
        "                model += lpSum(x[e, d, s] for e in E if employee_departments[e] == p) >= dept_diversity[d, s, p]\n",
        "                model += lpSum(x[e, d, s] for e in E if employee_departments[e] == p) <= len(E) * dept_diversity[d, s, p]\n",
        "\n",
        "            model += lpSum(dept_diversity[d, s, p] for p in P) >= 3\n",
        "\n",
        "    # 8. At least 90% of shifts should have at least one staff with high seniority (SOFT CONSTRAINT)\n",
        "    high_seniority_shifts = LpVariable.dicts(\"high_seniority\", ((d, s) for d in D for s in S), cat='Binary')\n",
        "    for d in D:\n",
        "        for s in S:\n",
        "            model += lpSum(x[e, d, s] for e in E if employee_seniority[e] > 10) >= high_seniority_shifts[d, s]\n",
        "    model += lpSum(high_seniority_shifts[d, s] for d in D for s in S) >= 0.9 * len(D) * len(S)\n",
        "\n",
        "    return model, x\n"
      ],
      "metadata": {
        "id": "rQVvRwusvrA4"
      },
      "execution_count": null,
      "outputs": []
    },
    {
      "cell_type": "code",
      "source": [
        "def evaluate_schedule(schedule_df, staff_df, expected_shifts=122):\n",
        "    # Total number of shifts\n",
        "    total_shifts = len(schedule_df)\n",
        "\n",
        "    # Shifts per employee\n",
        "    shifts_per_employee = schedule_df['Employee_ID'].value_counts()\n",
        "    max_shifts = shifts_per_employee.max()\n",
        "    min_shifts = shifts_per_employee.min()\n",
        "    avg_shifts = shifts_per_employee.mean()\n",
        "    shift_variance = shifts_per_employee.var()\n",
        "\n",
        "    # Role coverage (PRIORITY)\n",
        "    role_coverage = schedule_df.groupby(['Day', 'Shift', 'Role']).size().unstack(fill_value=0)\n",
        "    correct_role_coverage = (\n",
        "        (role_coverage['Main Doctor'] == 1) &\n",
        "        (role_coverage['Assistant Doctor'] == 1) &\n",
        "        (role_coverage['Nurse'] == 2)\n",
        "    ).all()\n",
        "\n",
        "    # Department coverage\n",
        "    def count_departments(group):\n",
        "        return group['Department'].nunique()\n",
        "    dept_diversity = schedule_df.groupby(['Day', 'Shift']).apply(count_departments)\n",
        "    avg_dept_diversity = dept_diversity.mean()\n",
        "\n",
        "    # Senior coverage\n",
        "    def has_senior_staff(group):\n",
        "        return (group['Employee_ID'].map(staff_df.set_index('ID')['Seniority']) > 10).any()\n",
        "    senior_coverage = schedule_df.groupby(['Day', 'Shift']).apply(has_senior_staff)\n",
        "    senior_coverage_pct = senior_coverage.mean() * 100\n",
        "\n",
        "    # Night-Day shifts\n",
        "    night_day_shifts = schedule_df.sort_values(['Employee_ID', 'Day', 'Shift'])\n",
        "    night_day_shifts['next_day'] = night_day_shifts.groupby('Employee_ID')['Day'].shift(-1)\n",
        "    night_day_shifts['next_shift'] = night_day_shifts.groupby('Employee_ID')['Shift'].shift(-1)\n",
        "    night_day_count = (\n",
        "        (night_day_shifts['Day'] == night_day_shifts['next_day'] - 1) &\n",
        "        (night_day_shifts['Shift'] == 'night') &\n",
        "        (night_day_shifts['next_shift'] == 'day')\n",
        "    ).sum()\n",
        "\n",
        "    # Consecutive working days\n",
        "    def count_consecutive_working_days(group):\n",
        "        working_days = group['Day'].sort_values().unique()\n",
        "        if len(working_days) == 0:\n",
        "            return 0\n",
        "        day_diff = np.diff(working_days)\n",
        "        consecutive = (day_diff == 1)\n",
        "        runs = [len(list(g)) for k, g in itertools.groupby(consecutive) if k]\n",
        "        return max(runs) + 1 if runs else 1\n",
        "\n",
        "    max_consecutive_days = schedule_df.groupby('Employee_ID').apply(count_consecutive_working_days).max()\n",
        "\n",
        "    # Fairness metric\n",
        "    fairness_metric = 1 - (shift_variance / (avg_shifts ** 2))\n",
        "\n",
        "    # Evaluation\n",
        "    evaluation = {\n",
        "        \"Correct Role Coverage (PRIORITY)\": correct_role_coverage,\n",
        "        \"Total Shifts\": total_shifts / 4,\n",
        "        \"Expected Shifts\": expected_shifts,\n",
        "        \"Shift Coverage (%)\": ((total_shifts / 4) / expected_shifts) * 100,\n",
        "        \"Max Shifts per Employee\": max_shifts,\n",
        "        \"Min Shifts per Employee\": min_shifts,\n",
        "        \"Average Shifts per Employee\": avg_shifts,\n",
        "        \"Shift Variance\": shift_variance,\n",
        "        \"Fairness Metric\": fairness_metric,\n",
        "        \"Average Department Diversity per Shift\": avg_dept_diversity,\n",
        "        \"Senior Staff Coverage (%)\": senior_coverage_pct,\n",
        "        \"Number of Consecutive Night-Day Shifts\": night_day_count,\n",
        "        \"Max Consecutive Working Days of any Employee\": max_consecutive_days\n",
        "    }\n",
        "\n",
        "    return evaluation\n"
      ],
      "metadata": {
        "id": "RZfOmCEg06xS"
      },
      "execution_count": null,
      "outputs": []
    },
    {
      "cell_type": "code",
      "source": [
        "def solve_and_extract_schedule(model, x, staff_df):\n",
        "    model.solve(PULP_CBC_CMD(msg=0))\n",
        "\n",
        "    schedule = []\n",
        "    for (e, d, s), var in x.items():\n",
        "        if var.value() == 1:\n",
        "            employee = staff_df[staff_df['ID'] == e].iloc[0]\n",
        "            schedule.append({\n",
        "                'Day': d,\n",
        "                'Shift': s,\n",
        "                'Employee_ID': e,\n",
        "                'Name': employee['Name'],\n",
        "                'Department': employee['Department'],\n",
        "                'Role': employee['Role']\n",
        "            })\n",
        "\n",
        "    return pd.DataFrame(schedule)"
      ],
      "metadata": {
        "id": "8RJdEmLEvwtQ"
      },
      "execution_count": null,
      "outputs": []
    },
    {
      "cell_type": "code",
      "source": [
        "if __name__ == \"__main__\":\n",
        "    try:\n",
        "        staff_df = pd.read_csv('/content/data.csv')\n",
        "        model, x = create_model(staff_df)\n",
        "\n",
        "        solver = PULP_CBC_CMD(msg=0)\n",
        "        model.solve(solver)\n",
        "\n",
        "        schedule = []\n",
        "        for (e, d, s), var in x.items():\n",
        "            if var.value() == 1:\n",
        "                employee = staff_df[staff_df['ID'] == e].iloc[0]\n",
        "                schedule.append({\n",
        "                    'Day': d,\n",
        "                    'Shift': s,\n",
        "                    'Employee_ID': e,\n",
        "                    'Name': employee['Name'],\n",
        "                    'Department': employee['Department'],\n",
        "                    'Role': employee['Role']\n",
        "                })\n",
        "\n",
        "        schedule_df = pd.DataFrame(schedule)\n",
        "\n",
        "        evaluation_results = evaluate_schedule(schedule_df, staff_df)\n",
        "        print(\"\\nSchedule Evaluation:\")\n",
        "        for metric, value in evaluation_results.items():\n",
        "            print(f\"{metric}: {value}\")\n",
        "\n",
        "        schedule_df.to_csv('optimized_hospital_schedule.csv', index=False)\n",
        "        print(\"\\nOptimized schedule saved to 'optimized_hospital_schedule.csv'\")\n",
        "\n",
        "    except Exception as e:\n",
        "        print(f\"An error occurred: {e}\")"
      ],
      "metadata": {
        "colab": {
          "base_uri": "https://localhost:8080/"
        },
        "id": "mR62yKwevznI",
        "outputId": "baecb712-37e6-4e99-fc8a-24d8a0f65cff"
      },
      "execution_count": null,
      "outputs": [
        {
          "output_type": "stream",
          "name": "stdout",
          "text": [
            "\n",
            "Schedule Evaluation:\n",
            "Correct Role Coverage (PRIORITY): True\n",
            "Total Shifts: 122.0\n",
            "Expected Shifts: 122\n",
            "Shift Coverage (%): 100.0\n",
            "Max Shifts per Employee: 8\n",
            "Min Shifts per Employee: 4\n",
            "Average Shifts per Employee: 6.1\n",
            "Shift Variance: 2.4962025316455696\n",
            "Fairness Metric: 0.932915814790498\n",
            "Average Department Diversity per Shift: 3.3278688524590163\n",
            "Senior Staff Coverage (%): 98.36065573770492\n",
            "Number of Consecutive Night-Day Shifts: 0\n",
            "Max Consecutive Working Days of any Employee: 2\n",
            "\n",
            "Optimized schedule saved to 'optimized_hospital_schedule.csv'\n"
          ]
        }
      ]
    },
    {
      "cell_type": "code",
      "source": [],
      "metadata": {
        "id": "6buTsp2n1Ysk"
      },
      "execution_count": null,
      "outputs": []
    }
  ]
}